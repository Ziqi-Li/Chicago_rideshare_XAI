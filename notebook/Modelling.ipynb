{
 "cells": [
  {
   "cell_type": "code",
   "execution_count": 1,
   "metadata": {},
   "outputs": [],
   "source": [
    "import os\n",
    "import pandas as pd\n",
    "import numpy as np\n",
    "import xgboost\n",
    "import shap\n",
    "import matplotlib.pyplot as plt\n",
    "\n",
    "from sklearn.metrics import roc_curve,roc_auc_score,accuracy_score,classification_report,f1_score\n",
    "from sklearn.metrics import confusion_matrix,plot_confusion_matrix"
   ]
  },
  {
   "cell_type": "code",
   "execution_count": 2,
   "metadata": {},
   "outputs": [],
   "source": [
    "test_files = [f for f in os.listdir(\".\") if f.startswith('trip_records_acs_10_test_')]\n",
    "train_files = [f for f in os.listdir(\".\") if f.startswith('trip_records_acs_10_train_')]"
   ]
  },
  {
   "cell_type": "code",
   "execution_count": 3,
   "metadata": {},
   "outputs": [],
   "source": [
    "df_train = pd.concat(map(pd.read_csv, train_files))\n",
    "df_test =  pd.concat(map(pd.read_csv, test_files))"
   ]
  },
  {
   "cell_type": "code",
   "execution_count": 4,
   "metadata": {},
   "outputs": [],
   "source": [
    "X_names = ['distance_haversine', 'trip_direction', 'Fare', 'Additional Charges',\n",
    "        \n",
    "        'work_day', 'month', 'hour', \n",
    "        \n",
    "        'hour_temp', 'hour_wind', 'rain',\n",
    "        \n",
    "        'metro_x','metro_y','pick_dist_dt','drop_dist_dt',\n",
    "       \n",
    "       'pct_bach_x', 'median_income_x', 'sex_ratio_x',        \n",
    "       'pct_non_white_x', 'pct_age_18_29_x', 'pct_no_car_x',\n",
    "\n",
    "       'pct_bach_y', 'median_income_y', 'sex_ratio_y',\n",
    "       'pct_non_white_y', 'pct_age_18_29_y', 'pct_no_car_y',\n",
    "       \n",
    "       'residential_den_x' , 'empoloyment_den_x','network_den_x',\n",
    "        'dist_to_tran_x', 'walkability_x',\n",
    "        \n",
    "       'residential_den_y' , 'empoloyment_den_y','network_den_y',\n",
    "        'dist_to_tran_y', 'walkability_y',\n",
    "        \n",
    "       ]\n"
   ]
  },
  {
   "cell_type": "code",
   "execution_count": 5,
   "metadata": {},
   "outputs": [],
   "source": [
    "X_train = df_train[X_names]\n",
    "y_train = df_train.shared\n",
    "\n",
    "X_test = df_test[X_names]\n",
    "y_test = df_test.shared"
   ]
  },
  {
   "cell_type": "code",
   "execution_count": 6,
   "metadata": {},
   "outputs": [],
   "source": [
    "d_train = xgboost.DMatrix(X_train, label=y_train)\n",
    "d_test = xgboost.DMatrix(X_test, label=y_test)"
   ]
  },
  {
   "cell_type": "code",
   "execution_count": 7,
   "metadata": {},
   "outputs": [
    {
     "name": "stdout",
     "output_type": "stream",
     "text": [
      "1.0\n"
     ]
    }
   ],
   "source": [
    "im = (y_train==False).sum() / (y_train==True).sum()\n",
    "print(im)"
   ]
  },
  {
   "cell_type": "code",
   "execution_count": null,
   "metadata": {},
   "outputs": [],
   "source": []
  },
  {
   "cell_type": "code",
   "execution_count": null,
   "metadata": {},
   "outputs": [],
   "source": []
  },
  {
   "cell_type": "markdown",
   "metadata": {},
   "source": [
    "## Hyper-parameter tuning"
   ]
  },
  {
   "cell_type": "code",
   "execution_count": 8,
   "metadata": {},
   "outputs": [],
   "source": [
    "from hyperopt import fmin, tpe, hp, STATUS_OK, Trials, space_eval\n",
    "\n",
    "# Choose hyperparameter domain to search over\n",
    "space = {\n",
    "        'max_depth':hp.choice('max_depth', np.arange(1, 31, 1, dtype=int)),\n",
    "        #'n_estimators':hp.choice('n_estimators', np.arange(40, 2001, 10, dtype=int)),\n",
    "        'colsample_bytree':hp.quniform('colsample_bytree', 0.3, 1.01, 0.1),\n",
    "        'min_child_weight':hp.choice('min_child_weight', np.arange(10, 51, 10, dtype=int)),\n",
    "        'subsample':        hp.quniform('subsample', 0.4, 1.01, 0.1),\n",
    "        'learning_rate':    hp.choice('learning_rate',    np.arange(0.02, 0.3, 0.02)),\n",
    "        'gamma': hp.quniform('gamma', 0, 1, 0.1),\n",
    "\n",
    "        'objective':'binary:logistic',\n",
    "        'tree_method' : 'hist',\n",
    "        'eval_metric': 'logloss',\n",
    "    }\n",
    "\n",
    "\n",
    "def inner_cv(X_temp, y_temp,n_evals=1000):\n",
    "    \n",
    "    def score(params, n_folds=5):\n",
    "    \n",
    "        #Cross-validation\n",
    "        d_train = xgboost.DMatrix(X_temp,y_temp)\n",
    "    \n",
    "        cv_results = xgboost.cv(params, d_train, nfold = n_folds,num_boost_round=500,\n",
    "                        early_stopping_rounds = 10, metrics = 'logloss', seed = 0)\n",
    "\n",
    "        loss = min(cv_results['test-logloss-mean'])\n",
    "        return loss\n",
    "\n",
    "\n",
    "    def optimize(trials, space):\n",
    "    \n",
    "        best = fmin(score, space, algo=tpe.suggest, max_evals=n_evals,\n",
    "                )#Add seed to fmin function\n",
    "        return best\n",
    "\n",
    "    trials = Trials()\n",
    "    best_params = optimize(trials, space)\n",
    "\n",
    "    # Return the best parameters\n",
    "    best_params = space_eval(space, best_params)\n",
    "\n",
    "    print(best_params)\n",
    "    return best_params\n"
   ]
  },
  {
   "cell_type": "code",
   "execution_count": 9,
   "metadata": {},
   "outputs": [
    {
     "name": "stdout",
     "output_type": "stream",
     "text": [
      "100%|████████████████████████████████████████████████████| 50/50 [14:30:40<00:00, 1044.81s/trial, best loss: 0.2295764]\n",
      "{'colsample_bytree': 0.9, 'eval_metric': 'logloss', 'gamma': 1.0, 'learning_rate': 0.04, 'max_depth': 14, 'min_child_weight': 20, 'objective': 'binary:logistic', 'subsample': 0.9, 'tree_method': 'hist'}\n",
      "Wall time: 14h 30min 40s\n"
     ]
    }
   ],
   "source": [
    "%%time\n",
    "best_params = inner_cv(X_train, y_train, n_evals=50)"
   ]
  },
  {
   "cell_type": "code",
   "execution_count": null,
   "metadata": {},
   "outputs": [],
   "source": []
  },
  {
   "cell_type": "code",
   "execution_count": 10,
   "metadata": {},
   "outputs": [
    {
     "name": "stdout",
     "output_type": "stream",
     "text": [
      "[0]\ttrain-logloss:0.66591\ttest-logloss:0.66632\n",
      "[50]\ttrain-logloss:0.28352\ttest-logloss:0.28838\n",
      "[100]\ttrain-logloss:0.23568\ttest-logloss:0.24411\n",
      "[150]\ttrain-logloss:0.22381\ttest-logloss:0.23546\n",
      "[200]\ttrain-logloss:0.21821\ttest-logloss:0.23245\n",
      "[249]\ttrain-logloss:0.21459\ttest-logloss:0.23109\n"
     ]
    }
   ],
   "source": [
    "evals_result = {}\n",
    "\n",
    "model = xgboost.train(best_params,  d_train, num_boost_round=250, evals = [(d_train,\"train\"),(d_test, \"test\")], \n",
    "                      verbose_eval=50, early_stopping_rounds=10,evals_result=evals_result)\n"
   ]
  },
  {
   "cell_type": "code",
   "execution_count": null,
   "metadata": {},
   "outputs": [],
   "source": []
  },
  {
   "cell_type": "code",
   "execution_count": 11,
   "metadata": {},
   "outputs": [
    {
     "data": {
      "text/plain": [
       "[<matplotlib.lines.Line2D at 0x1df5f186280>]"
      ]
     },
     "execution_count": 11,
     "metadata": {},
     "output_type": "execute_result"
    },
    {
     "data": {
      "image/png": "[encoded data removed]",
      "text/plain": [
       "<Figure size 432x288 with 1 Axes>"
      ]
     },
     "metadata": {
      "needs_background": "light"
     },
     "output_type": "display_data"
    }
   ],
   "source": [
    "plt.plot(evals_result['train']['logloss'])\n",
    "plt.plot(evals_result['test']['logloss'])"
   ]
  },
  {
   "cell_type": "code",
   "execution_count": null,
   "metadata": {},
   "outputs": [],
   "source": []
  },
  {
   "cell_type": "code",
   "execution_count": 12,
   "metadata": {},
   "outputs": [
    {
     "name": "stdout",
     "output_type": "stream",
     "text": [
      "90.4745936332681\n"
     ]
    }
   ],
   "source": [
    "y_pred = model.predict(d_test)\n",
    "y_pred_class = (y_pred > 0.50)\n",
    "acc_xgb = (y_pred_class == y_test.values).sum().astype(float) / len(y_pred_class)*100\n",
    "\n",
    "print(acc_xgb)"
   ]
  },
  {
   "cell_type": "code",
   "execution_count": 13,
   "metadata": {},
   "outputs": [
    {
     "name": "stdout",
     "output_type": "stream",
     "text": [
      "91.25587716107675\n"
     ]
    }
   ],
   "source": [
    "y_pred2 = model.predict(d_train)\n",
    "y_pred_class2 = (y_pred2 > 0.50)\n",
    "acc_xgb2 = (y_pred_class2 == y_train.values).sum().astype(float) / len(y_pred_class2)*100\n",
    "\n",
    "print(acc_xgb2)"
   ]
  },
  {
   "cell_type": "code",
   "execution_count": 14,
   "metadata": {},
   "outputs": [
    {
     "data": {
      "text/plain": [
       "array([[0.94948256, 0.05051744],\n",
       "       [0.13999069, 0.86000931]])"
      ]
     },
     "execution_count": 14,
     "metadata": {},
     "output_type": "execute_result"
    }
   ],
   "source": [
    "confusion_matrix(y_test, y_pred_class,normalize='true')"
   ]
  },
  {
   "cell_type": "code",
   "execution_count": 15,
   "metadata": {},
   "outputs": [
    {
     "data": {
      "text/plain": [
       "array([[0.9575276 , 0.0424724 ],\n",
       "       [0.13241006, 0.86758994]])"
      ]
     },
     "execution_count": 15,
     "metadata": {},
     "output_type": "execute_result"
    }
   ],
   "source": [
    "confusion_matrix(y_train, y_pred_class2,normalize='true')"
   ]
  },
  {
   "cell_type": "code",
   "execution_count": 16,
   "metadata": {},
   "outputs": [
    {
     "name": "stdout",
     "output_type": "stream",
     "text": [
      "0.9047459363326811\n"
     ]
    }
   ],
   "source": [
    "fpr, tpr, thresholds = roc_curve(y_test, y_pred) \n",
    "logit_roc_auc = roc_auc_score(y_test, y_pred_class) \n",
    "print(logit_roc_auc)"
   ]
  },
  {
   "cell_type": "code",
   "execution_count": 17,
   "metadata": {},
   "outputs": [
    {
     "data": {
      "image/png": "[encoded data removed]",
      "text/plain": [
       "<Figure size 500x500 with 1 Axes>"
      ]
     },
     "metadata": {
      "needs_background": "light"
     },
     "output_type": "display_data"
    }
   ],
   "source": [
    "plt.figure(dpi=100,figsize=(5,5))\n",
    "plt.plot(fpr, tpr, label='XGboost (AUC = %0.2f)' % logit_roc_auc) \n",
    "plt.plot([0, 1], [0, 1],'r--',label='Non-seperable model')\n",
    "#plt.plot([0, 0], [0, 1],'b--',label='Perfect model')\n",
    "#plt.plot([0, 1], [1, 1],'b--')\n",
    "plt.xlim([-0.1, 1.1])\n",
    "plt.ylim([-0.1, 1.1])\n",
    "plt.xlabel('False Positive Rate')\n",
    "plt.ylabel('True Positive Rate')\n",
    "plt.title('ROC')\n",
    "plt.legend(loc=\"lower right\")\n",
    "plt.savefig('XGBoost_ROC')"
   ]
  },
  {
   "cell_type": "code",
   "execution_count": null,
   "metadata": {},
   "outputs": [],
   "source": []
  },
  {
   "cell_type": "code",
   "execution_count": 18,
   "metadata": {},
   "outputs": [],
   "source": [
    "model.save_model(\"xgb_no_coords.model\")"
   ]
  },
  {
   "cell_type": "code",
   "execution_count": 19,
   "metadata": {},
   "outputs": [],
   "source": [
    "def od(arr):\n",
    "    odds = np.exp(arr)\n",
    "    prob = odds / (1 + odds)\n",
    "    return prob - 0.5"
   ]
  },
  {
   "cell_type": "code",
   "execution_count": 20,
   "metadata": {},
   "outputs": [
    {
     "name": "stdout",
     "output_type": "stream",
     "text": [
      "Wall time: 4h 9min 2s\n"
     ]
    }
   ],
   "source": [
    "%%time\n",
    "df_sample = df_train.sample(300000)\n",
    "X_sample = df_sample[X_names]\n",
    "\n",
    "explainer = shap.TreeExplainer(model)\n",
    "shap_values = explainer.shap_values(X_sample)"
   ]
  },
  {
   "cell_type": "code",
   "execution_count": 21,
   "metadata": {},
   "outputs": [],
   "source": [
    "np.savetxt('shap_values_final.csv', shap_values, delimiter=',')"
   ]
  },
  {
   "cell_type": "code",
   "execution_count": 22,
   "metadata": {},
   "outputs": [],
   "source": [
    "X_sample.to_csv('shap_X_sample_final.csv')\n",
    "df_sample.to_csv('shap_df_sample_final.csv')"
   ]
  },
  {
   "cell_type": "code",
   "execution_count": null,
   "metadata": {},
   "outputs": [],
   "source": []
  }
 ],
 "metadata": {
  "kernelspec": {
   "display_name": "Python 3",
   "language": "python",
   "name": "python3"
  },
  "language_info": {
   "codemirror_mode": {
    "name": "ipython",
    "version": 3
   },
   "file_extension": ".py",
   "mimetype": "text/x-python",
   "name": "python",
   "nbconvert_exporter": "python",
   "pygments_lexer": "ipython3",
   "version": "3.7.6"
  }
 },
 "nbformat": 4,
 "nbformat_minor": 4
}
