{
 "cells": [
  {
   "cell_type": "code",
   "execution_count": 1,
   "metadata": {},
   "outputs": [],
   "source": [
    "import censusdata\n",
    "import geopandas as gpd\n",
    "import pandas as pd\n",
    "import numpy as np"
   ]
  },
  {
   "cell_type": "code",
   "execution_count": 2,
   "metadata": {},
   "outputs": [],
   "source": [
    "acs = censusdata.download('acs5' #Dataset to use\n",
    "                          ,2018, # year 2014-2018, the most recent one\n",
    "                          censusdata.censusgeo([('state', '17'), ('county', '031'), ('tract',\"*\")]), #Geography\n",
    "                          ['DP02_0065PE', #Pct_bach\n",
    "                           'DP03_0062E', #income\n",
    "                           'DP05_0001E', #total_pop\n",
    "                           'DP05_0004E', #sex_ratio\n",
    "                           'DP05_0037PE', #pct_white\n",
    "                           'DP05_0018E', #median_age\n",
    "                           'DP04_0058PE', #no-car\n",
    "                           'DP03_0005PE' #unemplo\n",
    "                          ],\n",
    "                         tabletype='profile')\n",
    "\n",
    "acs.columns=['pct_bach','median_income','total_pop','sex_ratio','pct_white',\n",
    "             'median_age','pct_no_car','pct_unemp']\n",
    "\n",
    "\n",
    "\n",
    "age = censusdata.download('acs5', 2018, \n",
    "                           censusdata.censusgeo([('state', '17'), ('county', '031'), ('tract',\"*\")]), #Geography\n",
    "                                   ['B01001_007E', #M18/19\n",
    "                                    'B01001_008E', #M20\n",
    "                                    'B01001_009E', #M21\n",
    "                                    'B01001_010E', #M22-24\n",
    "                                    'B01001_011E', #M25-29\n",
    "                                    'B01001_031E', #F18/19\n",
    "                                    'B01001_032E', #F20\n",
    "                                    'B01001_033E', #F21\n",
    "                                    'B01001_034E', #F22-24\n",
    "                                    'B01001_035E' #F25-29\n",
    "                                   ])\n",
    "\n",
    "acs[\"age_18_29\"] = age.sum(axis = 1)\n",
    "acs[\"pct_age_18_29\"] = acs[\"age_18_29\"]/acs[\"total_pop\"] * 100\n",
    "\n",
    "censusdata.export.exportcsv(\"data/acs.csv\", acs)\n",
    "acs_df = pd.read_csv(\"data/acs.csv\")\n",
    "acs_df[\"GEOID\"] = acs_df.state.astype(str) + acs_df.county.astype(str).str.zfill(3) + acs_df.tract.astype(str).str.zfill(6)\n",
    "acs_df[\"GEOID\"] = acs_df[\"GEOID\"]"
   ]
  },
  {
   "cell_type": "code",
   "execution_count": 3,
   "metadata": {},
   "outputs": [],
   "source": [
    "SLD = pd.read_csv(\"data/SLD_trac.csv\")\n",
    "SLD[\"TRACTCE\"] = \"17031\" + SLD[\"TRACTCE\"].astype(str).str.zfill(6)"
   ]
  },
  {
   "cell_type": "code",
   "execution_count": 4,
   "metadata": {},
   "outputs": [
    {
     "data": {
      "text/plain": [
       "0        17031000100\n",
       "1        17031000101\n",
       "2        17031000102\n",
       "3        17031000103\n",
       "4        17031000104\n",
       "            ...     \n",
       "16539    17031985000\n",
       "16540    17031985100\n",
       "16541    17031985300\n",
       "16542    17031985500\n",
       "16543    17031989100\n",
       "Name: TRACTCE, Length: 16544, dtype: object"
      ]
     },
     "execution_count": 4,
     "metadata": {},
     "output_type": "execute_result"
    }
   ],
   "source": [
    "SLD[\"TRACTCE\"]"
   ]
  },
  {
   "cell_type": "code",
   "execution_count": 5,
   "metadata": {},
   "outputs": [],
   "source": [
    "chicago = gpd.read_file(\"data/shp/geo_export_3890de09-5807-41da-984a-01b79afdfc2c.shp\")\n",
    "\n",
    "chicago.drop(['notes'], axis=1,inplace=True)\n",
    "\n",
    "chicago = chicago.to_crs(\"EPSG:32616\")"
   ]
  },
  {
   "cell_type": "code",
   "execution_count": 6,
   "metadata": {},
   "outputs": [
    {
     "data": {
      "text/plain": [
       "0      17031842400\n",
       "1      17031840300\n",
       "2      17031841100\n",
       "3      17031841200\n",
       "4      17031839000\n",
       "          ...     \n",
       "796    17031070400\n",
       "797    17031070500\n",
       "798    17031130300\n",
       "799    17031292200\n",
       "800    17031630900\n",
       "Name: geoid10, Length: 801, dtype: object"
      ]
     },
     "execution_count": 6,
     "metadata": {},
     "output_type": "execute_result"
    }
   ],
   "source": [
    "chicago.geoid10"
   ]
  },
  {
   "cell_type": "code",
   "execution_count": 7,
   "metadata": {},
   "outputs": [],
   "source": [
    "chicago = chicago.merge(acs_df,left_on=\"geoid10\",right_on=\"GEOID\")\n",
    "chicago = chicago.merge(SLD,left_on=\"geoid10\",right_on=\"TRACTCE\")\n",
    "\n",
    "chicago = chicago[chicago['total_pop']>500]"
   ]
  },
  {
   "cell_type": "code",
   "execution_count": 8,
   "metadata": {},
   "outputs": [],
   "source": [
    "metro = gpd.read_file(\"data/CTA_RailStations/CTA_RailStations.shp\").to_crs(\"epsg:4326\")\n",
    "chicago_4326 = chicago.to_crs(\"epsg:4326\")\n",
    "chicago['metro'] = metro[\"geometry\"].apply(lambda geom: chicago_4326[\"geometry\"].contains(geom)).sum(axis=0)\n",
    "chicago['metro'] = np.where(chicago['metro']<0.5,0,1)"
   ]
  },
  {
   "cell_type": "code",
   "execution_count": 9,
   "metadata": {},
   "outputs": [
    {
     "data": {
      "text/plain": [
       "<AxesSubplot:>"
      ]
     },
     "execution_count": 9,
     "metadata": {},
     "output_type": "execute_result"
    },
    {
     "data": {
      "image/png": "[encoded data removed]",
      "text/plain": [
       "<Figure size 432x288 with 1 Axes>"
      ]
     },
     "metadata": {
      "needs_background": "light"
     },
     "output_type": "display_data"
    }
   ],
   "source": [
    "chicago.plot()"
   ]
  },
  {
   "cell_type": "code",
   "execution_count": 10,
   "metadata": {},
   "outputs": [
    {
     "name": "stderr",
     "output_type": "stream",
     "text": [
      "/Users/ziqi/opt/anaconda3/lib/python3.7/site-packages/ipykernel_launcher.py:1: UserWarning: Column names longer than 10 characters will be truncated when saved to ESRI Shapefile.\n",
      "  \"\"\"Entry point for launching an IPython kernel.\n"
     ]
    }
   ],
   "source": [
    "chicago.to_file(\"data/shp/acs_tracts.shp\")"
   ]
  },
  {
   "cell_type": "code",
   "execution_count": 11,
   "metadata": {},
   "outputs": [],
   "source": [
    "d = 50\n",
    "\n",
    "df = pd.read_csv(\"data/Transportation_Network_Providers_-_Trips.csv\", header=0, skiprows=lambda i: i % d != 0)"
   ]
  },
  {
   "cell_type": "code",
   "execution_count": 12,
   "metadata": {},
   "outputs": [],
   "source": [
    "df['start_datetime'] = pd.to_datetime(df[\"Trip Start Timestamp\"])\n",
    "\n",
    "df['month'] = df['start_datetime'].dt.month"
   ]
  },
  {
   "cell_type": "code",
   "execution_count": 13,
   "metadata": {},
   "outputs": [],
   "source": [
    "df = df[df.year==2019]"
   ]
  },
  {
   "cell_type": "code",
   "execution_count": 18,
   "metadata": {},
   "outputs": [
    {
     "data": {
      "text/plain": [
       "(2237013, 23)"
      ]
     },
     "execution_count": 18,
     "metadata": {},
     "output_type": "execute_result"
    }
   ],
   "source": [
    "df.shape"
   ]
  },
  {
   "cell_type": "code",
   "execution_count": 19,
   "metadata": {},
   "outputs": [
    {
     "data": {
      "text/plain": [
       "count     2237013\n",
       "unique          2\n",
       "top         False\n",
       "freq      1789816\n",
       "Name: Shared Trip Authorized, dtype: object"
      ]
     },
     "execution_count": 19,
     "metadata": {},
     "output_type": "execute_result"
    }
   ],
   "source": [
    "df['Shared Trip Authorized'].describe()"
   ]
  },
  {
   "cell_type": "code",
   "execution_count": 20,
   "metadata": {},
   "outputs": [],
   "source": [
    "df = df[df['Trip Miles']<50]\n",
    "df = df[df['Trip Miles']>1]\n",
    "df = df[df['Trip Seconds']<3600*2]\n",
    "df = df[df['Trip Seconds']>5*60]\n",
    "df = df[df['Fare']>=2.5]\n",
    "df = df[df['Fare']<=100]"
   ]
  },
  {
   "cell_type": "code",
   "execution_count": 21,
   "metadata": {},
   "outputs": [
    {
     "data": {
      "image/png": "[encoded data removed]",
      "text/plain": [
       "<Figure size 432x288 with 1 Axes>"
      ]
     },
     "metadata": {
      "needs_background": "light"
     },
     "output_type": "display_data"
    }
   ],
   "source": [
    "df['Shared Trip Authorized'].value_counts().plot(kind='bar', title='Count (target)');"
   ]
  },
  {
   "cell_type": "code",
   "execution_count": 22,
   "metadata": {},
   "outputs": [],
   "source": [
    "df.dropna(inplace=True)"
   ]
  },
  {
   "cell_type": "code",
   "execution_count": 23,
   "metadata": {},
   "outputs": [],
   "source": [
    "df[\"end_geoid\"] = df[\"Dropoff Census Tract\"].astype(int).astype(str)\n",
    "df[\"start_geoid\"] = df[\"Pickup Census Tract\"].astype(int).astype(str)"
   ]
  },
  {
   "cell_type": "code",
   "execution_count": 24,
   "metadata": {},
   "outputs": [],
   "source": [
    "df = df.merge(chicago,left_on=\"end_geoid\", right_on=\"GEOID\")\n",
    "\n",
    "df = df.merge(chicago,left_on=\"start_geoid\", right_on=\"GEOID\")"
   ]
  },
  {
   "cell_type": "code",
   "execution_count": 25,
   "metadata": {},
   "outputs": [],
   "source": [
    "df.drop(['geometry_y'], axis=1,inplace=True)\n",
    "df.drop(['geometry_x'], axis=1,inplace=True)"
   ]
  },
  {
   "cell_type": "code",
   "execution_count": 26,
   "metadata": {},
   "outputs": [
    {
     "data": {
      "text/plain": [
       "(1178360, 91)"
      ]
     },
     "execution_count": 26,
     "metadata": {},
     "output_type": "execute_result"
    }
   ],
   "source": [
    "df.shape"
   ]
  },
  {
   "cell_type": "code",
   "execution_count": null,
   "metadata": {},
   "outputs": [],
   "source": []
  },
  {
   "cell_type": "code",
   "execution_count": 27,
   "metadata": {},
   "outputs": [],
   "source": [
    "df[\"shared\"] = df[\"Shared Trip Authorized\"]\n",
    "df[\"trip_seconds\"] = df[\"Trip Seconds\"]\n",
    "df['trip_miles'] = df[\"Trip Miles\"]\n",
    "\n",
    "df['start_dayweek'] = df['start_datetime'].dt.dayofweek\n",
    "df['year'] = df['start_datetime'].dt.year\n",
    "df['day'] = df['start_datetime'].dt.day\n",
    "df['hour'] = df['start_datetime'].dt.hour\n",
    "\n",
    "df['pick_long'] = df['Pickup Centroid Longitude']\n",
    "df['pick_lat'] = df['Pickup Centroid Latitude']\n",
    "df['drop_long'] = df['Dropoff Centroid Longitude']\n",
    "df['drop_lat'] = df['Dropoff Centroid Latitude']\n",
    "\n",
    "df['ln_total_pop_x'] = np.log(df['total_pop_x'])\n",
    "df['ln_total_pop_y'] = np.log(df['total_pop_y'])\n",
    "\n",
    "df['yyyymm'] = (df['year'] - 2019)*12 + df['month']"
   ]
  },
  {
   "cell_type": "code",
   "execution_count": 28,
   "metadata": {},
   "outputs": [],
   "source": [
    "df['yyyymm'] = (df['year'] - 2019)*12 + df['month']\n",
    "\n",
    "df = df[df.year>2018]\n",
    "\n"
   ]
  },
  {
   "cell_type": "markdown",
   "metadata": {},
   "source": [
    "## NOAA"
   ]
  },
  {
   "cell_type": "code",
   "execution_count": 29,
   "metadata": {},
   "outputs": [],
   "source": [
    "noaa = pd.read_csv(\"data/hourly_climate.csv\")"
   ]
  },
  {
   "cell_type": "code",
   "execution_count": 31,
   "metadata": {},
   "outputs": [],
   "source": [
    "df = df.merge(noaa,how=\"left\",on=['year','month','day','hour'])"
   ]
  },
  {
   "cell_type": "code",
   "execution_count": null,
   "metadata": {},
   "outputs": [],
   "source": []
  },
  {
   "cell_type": "markdown",
   "metadata": {},
   "source": [
    "## Matching"
   ]
  },
  {
   "cell_type": "code",
   "execution_count": 32,
   "metadata": {},
   "outputs": [],
   "source": [
    "df_plot = df.groupby(['shared', 'hour',\n",
    "                                 'Pickup Census Tract','Dropoff Census Tract']).mean().reset_index()\n",
    "\n",
    "df_match = df_plot[['Pickup Census Tract','Dropoff Census Tract','shared','hour','Trip Seconds','Trip Miles','Fare']][df_plot.shared == False].drop('shared',axis=1)\n",
    "\n",
    "df_match.columns = ['Pickup Census Tract','Dropoff Census Tract','hour','ave_solo_secs','ave_solo_miles','ave_solo_fare']\n",
    "\n",
    "df = df.merge(df_match,how='left',on=['Pickup Census Tract','Dropoff Census Tract','hour'])"
   ]
  },
  {
   "cell_type": "code",
   "execution_count": null,
   "metadata": {},
   "outputs": [],
   "source": [
    "df['detour_time'] = (df['Trip Seconds'] - df['ave_solo_secs'])/df['ave_solo_secs'] * 100\n",
    "df['detour_dist'] = (df['Trip Miles'] - df['ave_solo_miles'])/df['ave_solo_miles'] * 100\n",
    "df['discount_fare'] = (df['ave_solo_fare'] - df['Fare'])/df['ave_solo_fare']*100"
   ]
  },
  {
   "cell_type": "code",
   "execution_count": null,
   "metadata": {},
   "outputs": [],
   "source": [
    "df = df[df['discount_fare'] >= 0]"
   ]
  },
  {
   "cell_type": "code",
   "execution_count": 33,
   "metadata": {},
   "outputs": [],
   "source": [
    "df.dropna(inplace=True)"
   ]
  },
  {
   "cell_type": "code",
   "execution_count": 34,
   "metadata": {},
   "outputs": [
    {
     "data": {
      "text/plain": [
       "(1068270, 112)"
      ]
     },
     "execution_count": 34,
     "metadata": {},
     "output_type": "execute_result"
    }
   ],
   "source": [
    "df.shape"
   ]
  },
  {
   "cell_type": "markdown",
   "metadata": {},
   "source": [
    "## Balance"
   ]
  },
  {
   "cell_type": "code",
   "execution_count": 35,
   "metadata": {},
   "outputs": [
    {
     "data": {
      "image/png": "[encoded data removed]",
      "text/plain": [
       "<Figure size 432x288 with 1 Axes>"
      ]
     },
     "metadata": {
      "needs_background": "light"
     },
     "output_type": "display_data"
    }
   ],
   "source": [
    "df['shared'].value_counts().plot(kind='bar', title='Count (target)');"
   ]
  },
  {
   "cell_type": "code",
   "execution_count": 36,
   "metadata": {},
   "outputs": [],
   "source": [
    "count_class_0, count_class_1 = df.shared.value_counts()\n",
    "\n",
    "df_class_0 = df[df['shared'] == 0]\n",
    "df_class_1 = df[df['shared'] == 1]\n",
    "\n",
    "df_class_0_under = df_class_0.sample(count_class_1)\n",
    "df_test_under = pd.concat([df_class_0_under, df_class_1], axis=0)"
   ]
  },
  {
   "cell_type": "code",
   "execution_count": 37,
   "metadata": {},
   "outputs": [
    {
     "data": {
      "image/png": "[encoded data removed]",
      "text/plain": [
       "<Figure size 432x288 with 1 Axes>"
      ]
     },
     "metadata": {
      "needs_background": "light"
     },
     "output_type": "display_data"
    }
   ],
   "source": [
    "df_test_under.shared.value_counts().plot(kind='bar', title='Count (target)');"
   ]
  },
  {
   "cell_type": "code",
   "execution_count": null,
   "metadata": {},
   "outputs": [],
   "source": []
  },
  {
   "cell_type": "code",
   "execution_count": null,
   "metadata": {},
   "outputs": [],
   "source": []
  },
  {
   "cell_type": "code",
   "execution_count": 38,
   "metadata": {},
   "outputs": [],
   "source": [
    "def haversine(lat1, lng1, lat2, lng2):\n",
    "    lat1, lng1, lat2, lng2 = map(np.radians, (lat1, lng1, lat2, lng2))\n",
    "    EARTH_RADIUS = 6371  # in km\n",
    "    lat = lat2 - lat1\n",
    "    lng = lng2 - lng1\n",
    "    d = np.sin(lat * 0.5) ** 2 + np.cos(lat1) * np.cos(lat2) * np.sin(lng * 0.5) ** 2\n",
    "    h = 2 * EARTH_RADIUS * np.arcsin(np.sqrt(d))\n",
    "    return h\n",
    "\n",
    "def manhattan(lat1, lng1, lat2, lng2):\n",
    "    a = haversine(lat1, lng1, lat1, lng2)\n",
    "    b = haversine(lat1, lng1, lat2, lng1)\n",
    "    return a + b\n"
   ]
  },
  {
   "cell_type": "code",
   "execution_count": 39,
   "metadata": {},
   "outputs": [],
   "source": [
    "def compute_distance(df):\n",
    "    \n",
    "    dt = (41.8757,-87.6243)\n",
    "    \n",
    "    df['distance_haversine'] = haversine(df['pick_lat'].values, \n",
    "                                        df['pick_long'].values, \n",
    "                                        df['drop_lat'].values, \n",
    "                                        df['drop_long'].values)\n",
    "    \n",
    "    df['distance_manhattan'] = manhattan(df['pick_lat'].values, \n",
    "                                        df['pick_long'].values, \n",
    "                                        df['drop_lat'].values, \n",
    "                                        df['drop_long'].values)\n",
    "    \n",
    "    df['pick_dist_dt'] = haversine(df['pick_lat'].values, \n",
    "                                        df['pick_long'].values, \n",
    "                                        dt[0], dt[1])\n",
    "    \n",
    "    df['drop_dist_dt'] = haversine(dt[0],dt[1], \n",
    "                                        df['drop_lat'].values, \n",
    "                                        df['drop_long'].values)"
   ]
  },
  {
   "cell_type": "code",
   "execution_count": 40,
   "metadata": {},
   "outputs": [],
   "source": [
    "compute_distance(df_test_under)"
   ]
  },
  {
   "cell_type": "code",
   "execution_count": 41,
   "metadata": {},
   "outputs": [],
   "source": [
    "df_test_under.shape\n",
    "df_test_under.to_csv(\"trip_records_acs_50.csv\")"
   ]
  },
  {
   "cell_type": "code",
   "execution_count": 42,
   "metadata": {},
   "outputs": [
    {
     "data": {
      "text/plain": [
       "Index(['Trip ID', 'Trip Start Timestamp', 'Trip End Timestamp', 'Trip Seconds',\n",
       "       'Trip Miles', 'Pickup Census Tract', 'Dropoff Census Tract',\n",
       "       'Pickup Community Area', 'Dropoff Community Area', 'Fare',\n",
       "       ...\n",
       "       'hour_temp', 'hour_wind', 'hour_prec', 'ave_solo_secs',\n",
       "       'ave_solo_miles', 'ave_solo_fare', 'distance_haversine',\n",
       "       'distance_manhattan', 'pick_dist_dt', 'drop_dist_dt'],\n",
       "      dtype='object', length=116)"
      ]
     },
     "execution_count": 42,
     "metadata": {},
     "output_type": "execute_result"
    }
   ],
   "source": [
    "df_test_under.columns"
   ]
  },
  {
   "cell_type": "code",
   "execution_count": 43,
   "metadata": {},
   "outputs": [
    {
     "data": {
      "text/plain": [
       "<AxesSubplot:xlabel='hour'>"
      ]
     },
     "execution_count": 43,
     "metadata": {},
     "output_type": "execute_result"
    },
    {
     "data": {
      "image/png": "[encoded data removed]",
      "text/plain": [
       "<Figure size 720x360 with 1 Axes>"
      ]
     },
     "metadata": {
      "needs_background": "light"
     },
     "output_type": "display_data"
    }
   ],
   "source": [
    "df_plot = df.groupby(['shared', 'hour']).size().reset_index().pivot(columns=\n",
    "                                                                    'shared', index='hour', values=0)\n",
    "df_plot.plot(kind='bar', stacked=True,figsize=(10,5))"
   ]
  },
  {
   "cell_type": "code",
   "execution_count": 44,
   "metadata": {},
   "outputs": [
    {
     "data": {
      "text/plain": [
       "<AxesSubplot:xlabel='yyyymm'>"
      ]
     },
     "execution_count": 44,
     "metadata": {},
     "output_type": "execute_result"
    },
    {
     "data": {
      "image/png": "[encoded data removed]",
      "text/plain": [
       "<Figure size 720x360 with 1 Axes>"
      ]
     },
     "metadata": {
      "needs_background": "light"
     },
     "output_type": "display_data"
    }
   ],
   "source": [
    "df_plot = df_test_under.groupby(['shared', 'yyyymm']).size().reset_index().pivot(columns=\n",
    "                                                                    'shared', index='yyyymm', values=0)\n",
    "df_plot.plot(kind='bar', stacked=True,figsize=(10,5))"
   ]
  },
  {
   "cell_type": "code",
   "execution_count": null,
   "metadata": {},
   "outputs": [],
   "source": []
  },
  {
   "cell_type": "code",
   "execution_count": null,
   "metadata": {},
   "outputs": [],
   "source": []
  },
  {
   "cell_type": "code",
   "execution_count": null,
   "metadata": {},
   "outputs": [],
   "source": []
  }
 ],
 "metadata": {
  "kernelspec": {
   "display_name": "Python 3",
   "language": "python",
   "name": "python3"
  },
  "language_info": {
   "codemirror_mode": {
    "name": "ipython",
    "version": 3
   },
   "file_extension": ".py",
   "mimetype": "text/x-python",
   "name": "python",
   "nbconvert_exporter": "python",
   "pygments_lexer": "ipython3",
   "version": "3.7.6"
  }
 },
 "nbformat": 4,
 "nbformat_minor": 4
}
